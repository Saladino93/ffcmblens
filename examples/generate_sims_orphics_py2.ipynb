{
 "cells": [
  {
   "cell_type": "code",
   "execution_count": 25,
   "metadata": {},
   "outputs": [],
   "source": [
    "#import sys\n",
    "#import os\n",
    "\n",
    "#sys.path.append(os.getcwd() + '/../ffcmblens/')\n",
    "#import utils, sims_generator\n",
    "\n",
    "\n",
    "from orphics import lensing,io,cosmology,maps\n",
    "\n",
    "import symlens as s\n",
    "import numpy as np\n",
    "\n",
    "from pixell import enmap"
   ]
  },
  {
   "cell_type": "markdown",
   "metadata": {},
   "source": [
    "### Configuration"
   ]
  },
  {
   "cell_type": "code",
   "execution_count": 2,
   "metadata": {},
   "outputs": [],
   "source": [
    "deg = 20.\n",
    "px = 2.0\n",
    "\n",
    "bin_width = 20\n",
    "beam_arcmin = 1.4\n",
    "noise_uk_arcmin = 7.0\n",
    "\n",
    "#Lensing\n",
    "\n",
    "tellmin = 30\n",
    "tellmax = 3500\n",
    "\n",
    "kellmin = 10\n",
    "kellmax = 3000\n"
   ]
  },
  {
   "cell_type": "markdown",
   "metadata": {},
   "source": [
    "### Get CMB"
   ]
  },
  {
   "cell_type": "code",
   "execution_count": 9,
   "metadata": {},
   "outputs": [],
   "source": [
    "theory = cosmology.default_theory(lpad=30000)\n",
    "\n",
    "shape,wcs = s.rect_geometry(width_deg=deg,px_res_arcmin=px)\n",
    "\n",
    "flsims = lensing.FlatLensingSims(shape,wcs,theory,beam_arcmin,noise_uk_arcmin)\n",
    "\n",
    "kbeam = flsims.kbeam\n",
    "modlmap = enmap.modlmap(shape,wcs)\n",
    "fc = maps.FourierCalc(shape,wcs)\n",
    "n2d = (noise_uk_arcmin*np.pi/180./60.)**2./flsims.kbeam**2.\n",
    "tmask = s.mask_kspace(shape,wcs,lmin=tellmin,lmax=tellmax)\n",
    "kmask = s.mask_kspace(shape,wcs,lmin=kellmin,lmax=kellmax)\n",
    "bin_edges = np.arange(kellmin,kellmax,bin_width)\n",
    "binner = s.bin2D(modlmap,bin_edges)\n",
    "i = 0\n",
    "unlensed,kappa,lensed,beamed,noise_map,observed = flsims.get_sim(seed_cmb=(i,1),\n",
    "                                                                 seed_kappa=(i,2),\n",
    "                                                                 seed_noise=(i,3),\n",
    "                                                                 lens_order=5,\n",
    "                                                                 return_intermediate=True)\n",
    "_,kmap,_ = fc.power2d(observed)\n",
    "pii2d,kinput,_ = fc.power2d(kappa)"
   ]
  },
  {
   "cell_type": "markdown",
   "metadata": {},
   "source": [
    "#### Observed is beamed so you have to debeam"
   ]
  },
  {
   "cell_type": "code",
   "execution_count": 4,
   "metadata": {},
   "outputs": [],
   "source": [
    "kmap_deconvolved = kmap*kbeam**-1"
   ]
  },
  {
   "cell_type": "markdown",
   "metadata": {},
   "source": [
    "#### Check maps"
   ]
  },
  {
   "cell_type": "code",
   "execution_count": 10,
   "metadata": {},
   "outputs": [],
   "source": [
    "ells = np.arange(0,4000,1)\n",
    "ucltt = theory.uCl('TT',ells)\n",
    "cltt =  theory.lCl('TT',ells)"
   ]
  },
  {
   "cell_type": "code",
   "execution_count": null,
   "metadata": {},
   "outputs": [],
   "source": []
  }
 ],
 "metadata": {
  "kernelspec": {
   "display_name": "Python 2",
   "language": "python",
   "name": "python2"
  },
  "language_info": {
   "codemirror_mode": {
    "name": "ipython",
    "version": 2
   },
   "file_extension": ".py",
   "mimetype": "text/x-python",
   "name": "python",
   "nbconvert_exporter": "python",
   "pygments_lexer": "ipython2",
   "version": "2.7.16"
  }
 },
 "nbformat": 4,
 "nbformat_minor": 4
}
